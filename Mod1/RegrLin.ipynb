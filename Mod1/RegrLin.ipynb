{
 "cells": [
  {
   "cell_type": "code",
   "execution_count": 93,
   "metadata": {},
   "outputs": [],
   "source": [
    "import pandas as pd\n",
    "import numpy as np\n",
    "import scipy as sci\n",
    "import matplotlib.pyplot as plt\n",
    "import seaborn as sls\n",
    "from scipy.optimize import curve_fit"
   ]
  },
  {
   "cell_type": "markdown",
   "metadata": {},
   "source": [
    "Primeiro, vamos executar a Regressão Linear apenas utilizando o scipy e numpy"
   ]
  },
  {
   "cell_type": "code",
   "execution_count": 94,
   "metadata": {},
   "outputs": [],
   "source": [
    "idade =[18, 25, 57, 45, 26, 64, 34, 40, 24, 33]\n",
    "salarioAnual = [15000, 29000, 68000, 52000, 32000, 80000, 41000, 45000, 26000, 33000]"
   ]
  },
  {
   "cell_type": "code",
   "execution_count": 95,
   "metadata": {},
   "outputs": [],
   "source": [
    "# Transformando as listas em arranjos\n",
    "xData = np.array(idade)\n",
    "yData = np.array(salarioAnual)"
   ]
  },
  {
   "cell_type": "code",
   "execution_count": 96,
   "metadata": {},
   "outputs": [],
   "source": [
    "# Definindo uma equacao da reta\n",
    "def reta (x, a, b):\n",
    "    return a * x + b"
   ]
  },
  {
   "cell_type": "code",
   "execution_count": 97,
   "metadata": {},
   "outputs": [],
   "source": [
    "# Definindo parâmetros iniciais para o otimizador\n",
    "paramIn = np.array([1.0, 1.0])"
   ]
  },
  {
   "cell_type": "markdown",
   "metadata": {},
   "source": [
    "Criamos um coeficiente angular ($A$) e um coeficiente linear ($B$) de valor 1.\n",
    "\n",
    "Vamos otimizar esses valores tais que:  \n",
    "**para cada** ponto $y$ pertencente à reta $y = a*x + b$,  \n",
    "a diferença $y - yData$ (onde $yData$ é o valor da variável dependente utilizando o mesmo $x$) seja minimizada"
   ]
  },
  {
   "cell_type": "code",
   "execution_count": 98,
   "metadata": {},
   "outputs": [],
   "source": [
    "# Definindo parâmetros otimizados através do Erro Médio Quadrado\n",
    "\n",
    "# Curve fit aplicará a função reta(xData, paramIn) e encontrará os\n",
    "# valores otimizados para coef. ang e coef. lin.\n",
    "#\n",
    "# Retorna os dois parâmetros otimizados e sua covariância\n",
    "paramOptm, paramCov = curve_fit(reta, xData, yData, paramIn)\n",
    "# paramCovar contem a covariância dos parametros encontrados"
   ]
  },
  {
   "cell_type": "code",
   "execution_count": 99,
   "metadata": {},
   "outputs": [],
   "source": [
    "# Cria um novo conjunto de dados Y, utilizando xData\n",
    "# e os coef. lin, e ang. otimizados\n",
    "regrLin = reta (xData, *paramOptm)"
   ]
  },
  {
   "cell_type": "code",
   "execution_count": 114,
   "metadata": {},
   "outputs": [],
   "source": [
    "# Define o erro absoluto com base nos valores de obtidos em regrLin e os\n",
    "# fornecidos pela base de dados\n",
    "errAbs = regrLin - yData"
   ]
  },
  {
   "cell_type": "code",
   "execution_count": 132,
   "metadata": {},
   "outputs": [
    {
     "name": "stdout",
     "output_type": "stream",
     "text": [
      "Squared Error: \n",
      " [ 6754235.72064926  4753539.73513082   945141.11491529  1357264.09892061\n",
      " 14922749.55265276  3265136.80819131  5405095.90836675  2492284.96778973\n",
      "   247531.42420891 18990855.55335589]\n",
      "Mean Squared Error:  5913383.488418132\n"
     ]
    }
   ],
   "source": [
    "sqrErr = np.square(errAbs)\n",
    "meanSqrErr = np.mean(sqrErr)\n",
    "print (\"Squared Error: \\n\", sqrErr)\n",
    "print (\"Mean Squared Error: \", meanSqErr)"
   ]
  },
  {
   "cell_type": "code",
   "execution_count": 102,
   "metadata": {},
   "outputs": [
    {
     "name": "stdout",
     "output_type": "stream",
     "text": [
      "Coeficiente de Determinação R:  0.9834122037408676\n"
     ]
    }
   ],
   "source": [
    "# Determinando o Coeficiente de Determinação\n",
    "# np.var(array) define o indíce de variância dos dados\n",
    "rSqrd = 1.0 - (np.var(errAbs) / np.var(yData))\n",
    "print('Coeficiente de Determinação R: ', rSqrd)"
   ]
  },
  {
   "cell_type": "code",
   "execution_count": 103,
   "metadata": {},
   "outputs": [
    {
     "name": "stdout",
     "output_type": "stream",
     "text": [
      "y = 1317.263908600044 * x + (-6111.859106470214)\n"
     ]
    }
   ],
   "source": [
    "# Equação da reta que foi obtida com o modelo\n",
    "print('y = {} * x + ({})'.format(paramOptm[0], paramOptm[1]))"
   ]
  },
  {
   "cell_type": "code",
   "execution_count": 104,
   "metadata": {},
   "outputs": [
    {
     "data": {
      "image/png": "[encoded data removed]",
      "text/plain": [
       "<Figure size 400x400 with 1 Axes>"
      ]
     },
     "metadata": {
      "needs_background": "light"
     },
     "output_type": "display_data"
    }
   ],
   "source": [
    "f = plt.figure(figsize = (4,4), dpi = 100)\n",
    "axes = f.add_subplot(111)"
   ]
  },
  {
   "cell_type": "code",
   "execution_count": 110,
   "metadata": {},
   "outputs": [],
   "source": [
    "# np.linspace(começo, fim) retorna um array com valores igualmente espaçados entre um\n",
    "# intervalo [começo, fim]\n",
    "xModel = np.linspace(min(xData), max(xData))\n",
    "# Aplicando a nossa regressão linear para todo xModel\n",
    "yModel = reta(xModel, *paramOptm)"
   ]
  },
  {
   "cell_type": "code",
   "execution_count": 111,
   "metadata": {},
   "outputs": [
    {
     "data": {
      "text/plain": [
       "Text(0, 0.5, 'Salário Anual (R$)')"
      ]
     },
     "execution_count": 111,
     "metadata": {},
     "output_type": "execute_result"
    },
    {
     "data": {
      "image/png": "[encoded data removed]",
      "text/plain": [
       "<Figure size 432x288 with 1 Axes>"
      ]
     },
     "metadata": {
      "needs_background": "light"
     },
     "output_type": "display_data"
    }
   ],
   "source": [
    "plt.plot(xModel, yModel)\n",
    "plt.plot(xData, yData, 'ro') #'ro' diz que serão plotados os dados em forma de bolas vermelhas\n",
    "plt.xlabel('Idade')\n",
    "plt.ylabel('Salário Anual (R$)')"
   ]
  },
  {
   "cell_type": "markdown",
   "metadata": {},
   "source": [
    "Abaixo, utilizarei o scikitlearn para realizar o modelo de regressão linear dos dados"
   ]
  },
  {
   "cell_type": "code",
   "execution_count": 116,
   "metadata": {},
   "outputs": [],
   "source": [
    "from sklearn.linear_model import LinearRegression as LinReg\n",
    "from sklearn.metrics import mean_squared_error as mSqrErr"
   ]
  },
  {
   "cell_type": "code",
   "execution_count": 123,
   "metadata": {},
   "outputs": [],
   "source": [
    "reg = LinReg()\n",
    "# Aqui estamos criando (por necessidade do sklearn) \n",
    "# um vetor com todos os valores de xData\n",
    "xVector = xData.reshape((-1, 1))\n",
    "# Realizando a regressão.\n",
    "regrLin = reg.fit(xVector, yData)"
   ]
  },
  {
   "cell_type": "code",
   "execution_count": 124,
   "metadata": {},
   "outputs": [],
   "source": [
    "prev = reg.predict(xVector)"
   ]
  },
  {
   "cell_type": "code",
   "execution_count": 130,
   "metadata": {},
   "outputs": [
    {
     "name": "stdout",
     "output_type": "stream",
     "text": [
      "Mean Squared Error:  5913383.48841813\n"
     ]
    }
   ],
   "source": [
    "MSE = mSqrErr(yData, prev)\n",
    "print('Mean Squared Error: ', MSE)"
   ]
  },
  {
   "cell_type": "code",
   "execution_count": 127,
   "metadata": {},
   "outputs": [
    {
     "name": "stdout",
     "output_type": "stream",
     "text": [
      "Nova reta:\n",
      "y = 1317.2639081370023 * x + (-6111.8590378142835)\n"
     ]
    }
   ],
   "source": [
    "print('Nova reta:\\ny = {} * x + ({})'.format(float(reg.coef_), reg.intercept_))"
   ]
  },
  {
   "cell_type": "code",
   "execution_count": 129,
   "metadata": {},
   "outputs": [
    {
     "name": "stdout",
     "output_type": "stream",
     "text": [
      "Coef de Determinação R:  0.9834122037408676\n"
     ]
    }
   ],
   "source": [
    "from sklearn.metrics import r2_score as r2\n",
    "r2_score = r2(yData, prev)\n",
    "print('Coef de Determinação R: ', r2_score)"
   ]
  },
  {
   "cell_type": "code",
   "execution_count": 134,
   "metadata": {},
   "outputs": [
    {
     "name": "stdout",
     "output_type": "stream",
     "text": [
      "Diferença entre os dois métodos ao calcular MSE:  1.862645149230957e-09\n",
      "Diferença entre os dois métodos ao calcular R² score:  0.0\n"
     ]
    }
   ],
   "source": [
    "#Comparando os dois métodos:\n",
    "print('Diferença entre os dois métodos ao calcular MSE: ', np.abs(meanSqrErr - MSE))\n",
    "print('Diferença entre os dois métodos ao calcular R² score: ', np.abs(rSqrd - r2_score))"
   ]
  },
  {
   "cell_type": "markdown",
   "metadata": {},
   "source": [
    "Vamos trabalhar com um BD de verdade, que fornece dados sobre cérebros humanos.\n",
    "Relacionaremos o tamanho da cabeça fornecido com seu peso do cérebro."
   ]
  },
  {
   "cell_type": "code",
   "execution_count": 136,
   "metadata": {},
   "outputs": [
    {
     "data": {
      "text/html": [
       "<div>\n",
       "<style scoped>\n",
       "    .dataframe tbody tr th:only-of-type {\n",
       "        vertical-align: middle;\n",
       "    }\n",
       "\n",
       "    .dataframe tbody tr th {\n",
       "        vertical-align: top;\n",
       "    }\n",
       "\n",
       "    .dataframe thead th {\n",
       "        text-align: right;\n",
       "    }\n",
       "</style>\n",
       "<table border=\"1\" class=\"dataframe\">\n",
       "  <thead>\n",
       "    <tr style=\"text-align: right;\">\n",
       "      <th></th>\n",
       "      <th>Gender</th>\n",
       "      <th>Age Range</th>\n",
       "      <th>Head Size(cm^3)</th>\n",
       "      <th>Brain Weight(grams)</th>\n",
       "    </tr>\n",
       "  </thead>\n",
       "  <tbody>\n",
       "    <tr>\n",
       "      <th>0</th>\n",
       "      <td>1</td>\n",
       "      <td>1</td>\n",
       "      <td>4512</td>\n",
       "      <td>1530</td>\n",
       "    </tr>\n",
       "    <tr>\n",
       "      <th>1</th>\n",
       "      <td>1</td>\n",
       "      <td>1</td>\n",
       "      <td>3738</td>\n",
       "      <td>1297</td>\n",
       "    </tr>\n",
       "    <tr>\n",
       "      <th>2</th>\n",
       "      <td>1</td>\n",
       "      <td>1</td>\n",
       "      <td>4261</td>\n",
       "      <td>1335</td>\n",
       "    </tr>\n",
       "    <tr>\n",
       "      <th>3</th>\n",
       "      <td>1</td>\n",
       "      <td>1</td>\n",
       "      <td>3777</td>\n",
       "      <td>1282</td>\n",
       "    </tr>\n",
       "    <tr>\n",
       "      <th>4</th>\n",
       "      <td>1</td>\n",
       "      <td>1</td>\n",
       "      <td>4177</td>\n",
       "      <td>1590</td>\n",
       "    </tr>\n",
       "  </tbody>\n",
       "</table>\n",
       "</div>"
      ],
      "text/plain": [
       "   Gender  Age Range  Head Size(cm^3)  Brain Weight(grams)\n",
       "0       1          1             4512                 1530\n",
       "1       1          1             3738                 1297\n",
       "2       1          1             4261                 1335\n",
       "3       1          1             3777                 1282\n",
       "4       1          1             4177                 1590"
      ]
     },
     "execution_count": 136,
     "metadata": {},
     "output_type": "execute_result"
    }
   ],
   "source": [
    "headbrain = pd.read_csv('./Datasets/headbrain.csv')\n",
    "headbrain.head()"
   ]
  },
  {
   "cell_type": "code",
   "execution_count": 142,
   "metadata": {},
   "outputs": [
    {
     "name": "stdout",
     "output_type": "stream",
     "text": [
      "<class 'pandas.core.frame.DataFrame'>\n",
      "RangeIndex: 237 entries, 0 to 236\n",
      "Data columns (total 4 columns):\n",
      " #   Column               Non-Null Count  Dtype\n",
      "---  ------               --------------  -----\n",
      " 0   Gender               237 non-null    int64\n",
      " 1   Age Range            237 non-null    int64\n",
      " 2   Head Size(cm^3)      237 non-null    int64\n",
      " 3   Brain Weight(grams)  237 non-null    int64\n",
      "dtypes: int64(4)\n",
      "memory usage: 7.5 KB\n"
     ]
    }
   ],
   "source": [
    "headbrain.info()"
   ]
  },
  {
   "cell_type": "code",
   "execution_count": 146,
   "metadata": {},
   "outputs": [
    {
     "data": {
      "text/plain": [
       "Gender                 0\n",
       "Age Range              0\n",
       "Head Size(cm^3)        0\n",
       "Brain Weight(grams)    0\n",
       "dtype: int64"
      ]
     },
     "execution_count": 146,
     "metadata": {},
     "output_type": "execute_result"
    }
   ],
   "source": [
    "headbrain.isnull().sum()"
   ]
  },
  {
   "cell_type": "code",
   "execution_count": 179,
   "metadata": {},
   "outputs": [
    {
     "data": {
      "text/plain": [
       "[<matplotlib.lines.Line2D at 0x7fd9381889d0>]"
      ]
     },
     "execution_count": 179,
     "metadata": {},
     "output_type": "execute_result"
    },
    {
     "data": {
      "image/png": "[encoded data removed]",
      "text/plain": [
       "<Figure size 432x288 with 1 Axes>"
      ]
     },
     "metadata": {
      "needs_background": "light"
     },
     "output_type": "display_data"
    }
   ],
   "source": [
    "xData = headbrain['Head Size(cm^3)'].to_numpy()\n",
    "yData = headbrain['Brain Weight(grams)'].to_numpy()\n",
    "plt.plot(xData, yData, 'ro') "
   ]
  },
  {
   "cell_type": "code",
   "execution_count": 172,
   "metadata": {},
   "outputs": [],
   "source": [
    "paramIn = np.array((1.0, 1.0))\n",
    "paramOptm, paramCov = curve_fit(reta, xData, yData, paramIn)\n",
    "regrlin = reta(xData, *paramOptm)"
   ]
  },
  {
   "cell_type": "code",
   "execution_count": 176,
   "metadata": {},
   "outputs": [
    {
     "data": {
      "text/plain": [
       "5201.3840280023305"
      ]
     },
     "execution_count": 176,
     "metadata": {},
     "output_type": "execute_result"
    }
   ],
   "source": [
    "errAbs = regrlin - yData\n",
    "sqrErr = np.square(errAbs)\n",
    "meanSqrErr = np.mean(sqrErr)\n",
    "meanSqrErr"
   ]
  },
  {
   "cell_type": "code",
   "execution_count": 178,
   "metadata": {},
   "outputs": [
    {
     "name": "stdout",
     "output_type": "stream",
     "text": [
      "Coeficiente de Determinação R:  0.639311719957\n"
     ]
    }
   ],
   "source": [
    "rSqrd = 1.0 - (np.var(errAbs) / np.var(yData))\n",
    "print('Coeficiente de Determinação R: ', rSqrd)"
   ]
  },
  {
   "cell_type": "code",
   "execution_count": 180,
   "metadata": {},
   "outputs": [],
   "source": [
    "xModel = np.linspace(min(xData), max(xData))\n",
    "yModel = reta(xModel, *paramOptm)"
   ]
  },
  {
   "cell_type": "code",
   "execution_count": 189,
   "metadata": {},
   "outputs": [
    {
     "data": {
      "image/png": "[encoded data removed]",
      "text/plain": [
       "<Figure size 432x288 with 1 Axes>"
      ]
     },
     "metadata": {
      "needs_background": "light"
     },
     "output_type": "display_data"
    }
   ],
   "source": [
    "plt.scatter(xData, yData, color = 'gray') \n",
    "plt.plot(xModel, yModel, color = 'red', linewidth = 2)\n",
    "plt.xlabel('Head Size(cm^3)')\n",
    "plt.ylabel('Brain Weight(grams)')\n",
    "plt.show()"
   ]
  }
 ],
 "metadata": {
  "kernelspec": {
   "display_name": "Python 3",
   "language": "python",
   "name": "python3"
  },
  "language_info": {
   "codemirror_mode": {
    "name": "ipython",
    "version": 3
   },
   "file_extension": ".py",
   "mimetype": "text/x-python",
   "name": "python",
   "nbconvert_exporter": "python",
   "pygments_lexer": "ipython3",
   "version": "3.8.2"
  }
 },
 "nbformat": 4,
 "nbformat_minor": 4
}
