{
 "cells": [
  {
   "cell_type": "markdown",
   "metadata": {
    "colab": {},
    "colab_type": "code",
    "id": "h7obNPb4Pf23"
   },
   "source": [
    "#Este programa contém os código demonstrados na aula sobre Aplicação de ML+IoT para o Healthcare(previsão de arritmia)"
   ]
  },
  {
   "cell_type": "code",
   "execution_count": 46,
   "metadata": {
    "colab": {},
    "colab_type": "code",
    "id": "sC7A3T2UR7ka"
   },
   "outputs": [],
   "source": [
    "#importando as bibliotecas\n",
    "import pandas as pd #biblioteca utilizada para tratar os dados em formato de dataframe\n",
    "import numpy as np # biblioteca utilizada para tratar vetores e matrizesimport matplotlib.pyplot as plt  #utilizapa para construir os gráficos em um formato similar ao \"Matlab\"\n",
    "from sklearn.preprocessing import MinMaxScaler, LabelEncoder #utilizada para realizar o preprocessamento dos dados\n",
    "from sklearn.model_selection import train_test_split #utilizada para realizar o divisão entre dados para treinamento e teste\n",
    "from sklearn.metrics import confusion_matrix, accuracy_score #utilizada para verificar a acurácia do modelo construído\n",
    "from sklearn.naive_bayes import GaussianNB # utilizada para construir o modelo de classificação naive_bayes\n",
    "import seaborn as sns #utilizada para constuir os gráficos em uma forma mais \"bonita\"\n",
    "import matplotlib.pyplot as plt #biblioteca para realizar a construção dos gráficos\n",
    "from sklearn.svm import SVC #utilizada para importar o algoritmo SVM"
   ]
  },
  {
   "cell_type": "code",
   "execution_count": 47,
   "metadata": {
    "colab": {},
    "colab_type": "code",
    "id": "WtVKtZSPTjed"
   },
   "outputs": [],
   "source": [
    "#lendo o dataset no formato de um dataframe através da função read do pandas\n",
    "nomeArquivo = './Datasets/saude.csv' \n",
    "dataset = pd.read_csv(nomeArquivo, sep=',') #realiza a leitura do banco de dados"
   ]
  },
  {
   "cell_type": "code",
   "execution_count": 48,
   "metadata": {
    "colab": {
     "base_uri": "https://localhost:8080/",
     "height": 266
    },
    "colab_type": "code",
    "executionInfo": {
     "elapsed": 654,
     "status": "ok",
     "timestamp": 1578685930433,
     "user": {
      "displayName": "Tulio Philipe",
      "photoUrl": "https://lh3.googleusercontent.com/a-/AAuE7mA1ZGOGyoLKRxvjkdb3Nahe1kQsDTygha29jmC4YA=s64",
      "userId": "06907869093485551957"
     },
     "user_tz": 180
    },
    "id": "sKF5jReLToAt",
    "outputId": "51ed797c-2568-43b2-dbf5-ec7c98839665"
   },
   "outputs": [
    {
     "data": {
      "text/html": [
       "<div>\n",
       "<style scoped>\n",
       "    .dataframe tbody tr th:only-of-type {\n",
       "        vertical-align: middle;\n",
       "    }\n",
       "\n",
       "    .dataframe tbody tr th {\n",
       "        vertical-align: top;\n",
       "    }\n",
       "\n",
       "    .dataframe thead th {\n",
       "        text-align: right;\n",
       "    }\n",
       "</style>\n",
       "<table border=\"1\" class=\"dataframe\">\n",
       "  <thead>\n",
       "    <tr style=\"text-align: right;\">\n",
       "      <th></th>\n",
       "      <th>_id</th>\n",
       "      <th>ccf</th>\n",
       "      <th>age</th>\n",
       "      <th>sex</th>\n",
       "      <th>pain location</th>\n",
       "      <th>pain w exertion</th>\n",
       "      <th>relieved after rest</th>\n",
       "      <th>pncaden</th>\n",
       "      <th>chest pain type</th>\n",
       "      <th>resting bp s</th>\n",
       "      <th>...</th>\n",
       "      <th>rcaprox</th>\n",
       "      <th>rcadist</th>\n",
       "      <th>dummy 7</th>\n",
       "      <th>dummy 8</th>\n",
       "      <th>dummy 9</th>\n",
       "      <th>dummy 10</th>\n",
       "      <th>dummy 11</th>\n",
       "      <th>dummy 12</th>\n",
       "      <th>dummy 13</th>\n",
       "      <th>dummy 14</th>\n",
       "    </tr>\n",
       "  </thead>\n",
       "  <tbody>\n",
       "    <tr>\n",
       "      <th>0</th>\n",
       "      <td>1254</td>\n",
       "      <td>0</td>\n",
       "      <td>40</td>\n",
       "      <td>1</td>\n",
       "      <td>1</td>\n",
       "      <td>0</td>\n",
       "      <td>0.0</td>\n",
       "      <td>NaN</td>\n",
       "      <td>2</td>\n",
       "      <td>140.0</td>\n",
       "      <td>...</td>\n",
       "      <td>NaN</td>\n",
       "      <td>NaN</td>\n",
       "      <td>1.0</td>\n",
       "      <td>1.0</td>\n",
       "      <td>1.0</td>\n",
       "      <td>1.0</td>\n",
       "      <td>1.0</td>\n",
       "      <td>NaN</td>\n",
       "      <td>NaN</td>\n",
       "      <td>name</td>\n",
       "    </tr>\n",
       "    <tr>\n",
       "      <th>1</th>\n",
       "      <td>1255</td>\n",
       "      <td>0</td>\n",
       "      <td>49</td>\n",
       "      <td>0</td>\n",
       "      <td>1</td>\n",
       "      <td>0</td>\n",
       "      <td>0.0</td>\n",
       "      <td>NaN</td>\n",
       "      <td>3</td>\n",
       "      <td>160.0</td>\n",
       "      <td>...</td>\n",
       "      <td>NaN</td>\n",
       "      <td>NaN</td>\n",
       "      <td>1.0</td>\n",
       "      <td>1.0</td>\n",
       "      <td>1.0</td>\n",
       "      <td>1.0</td>\n",
       "      <td>1.0</td>\n",
       "      <td>NaN</td>\n",
       "      <td>NaN</td>\n",
       "      <td>name</td>\n",
       "    </tr>\n",
       "    <tr>\n",
       "      <th>2</th>\n",
       "      <td>1256</td>\n",
       "      <td>0</td>\n",
       "      <td>37</td>\n",
       "      <td>1</td>\n",
       "      <td>1</td>\n",
       "      <td>0</td>\n",
       "      <td>0.0</td>\n",
       "      <td>NaN</td>\n",
       "      <td>2</td>\n",
       "      <td>130.0</td>\n",
       "      <td>...</td>\n",
       "      <td>NaN</td>\n",
       "      <td>NaN</td>\n",
       "      <td>1.0</td>\n",
       "      <td>1.0</td>\n",
       "      <td>1.0</td>\n",
       "      <td>1.0</td>\n",
       "      <td>1.0</td>\n",
       "      <td>NaN</td>\n",
       "      <td>NaN</td>\n",
       "      <td>name</td>\n",
       "    </tr>\n",
       "    <tr>\n",
       "      <th>3</th>\n",
       "      <td>1257</td>\n",
       "      <td>0</td>\n",
       "      <td>48</td>\n",
       "      <td>0</td>\n",
       "      <td>1</td>\n",
       "      <td>1</td>\n",
       "      <td>1.0</td>\n",
       "      <td>NaN</td>\n",
       "      <td>4</td>\n",
       "      <td>138.0</td>\n",
       "      <td>...</td>\n",
       "      <td>2.0</td>\n",
       "      <td>NaN</td>\n",
       "      <td>1.0</td>\n",
       "      <td>1.0</td>\n",
       "      <td>1.0</td>\n",
       "      <td>1.0</td>\n",
       "      <td>1.0</td>\n",
       "      <td>NaN</td>\n",
       "      <td>NaN</td>\n",
       "      <td>name</td>\n",
       "    </tr>\n",
       "    <tr>\n",
       "      <th>4</th>\n",
       "      <td>1258</td>\n",
       "      <td>0</td>\n",
       "      <td>54</td>\n",
       "      <td>1</td>\n",
       "      <td>1</td>\n",
       "      <td>0</td>\n",
       "      <td>1.0</td>\n",
       "      <td>NaN</td>\n",
       "      <td>3</td>\n",
       "      <td>150.0</td>\n",
       "      <td>...</td>\n",
       "      <td>1.0</td>\n",
       "      <td>NaN</td>\n",
       "      <td>1.0</td>\n",
       "      <td>1.0</td>\n",
       "      <td>1.0</td>\n",
       "      <td>1.0</td>\n",
       "      <td>1.0</td>\n",
       "      <td>NaN</td>\n",
       "      <td>NaN</td>\n",
       "      <td>name</td>\n",
       "    </tr>\n",
       "  </tbody>\n",
       "</table>\n",
       "<p>5 rows × 76 columns</p>\n",
       "</div>"
      ],
      "text/plain": [
       "    _id  ccf  age  sex  pain location  pain w exertion  relieved after rest  \\\n",
       "0  1254    0   40    1              1                0                  0.0   \n",
       "1  1255    0   49    0              1                0                  0.0   \n",
       "2  1256    0   37    1              1                0                  0.0   \n",
       "3  1257    0   48    0              1                1                  1.0   \n",
       "4  1258    0   54    1              1                0                  1.0   \n",
       "\n",
       "   pncaden  chest pain type  resting bp s  ...  rcaprox  rcadist  dummy 7  \\\n",
       "0      NaN                2         140.0  ...      NaN      NaN      1.0   \n",
       "1      NaN                3         160.0  ...      NaN      NaN      1.0   \n",
       "2      NaN                2         130.0  ...      NaN      NaN      1.0   \n",
       "3      NaN                4         138.0  ...      2.0      NaN      1.0   \n",
       "4      NaN                3         150.0  ...      1.0      NaN      1.0   \n",
       "\n",
       "   dummy 8  dummy 9  dummy 10  dummy 11  dummy 12  dummy 13  dummy 14  \n",
       "0      1.0      1.0       1.0       1.0       NaN       NaN      name  \n",
       "1      1.0      1.0       1.0       1.0       NaN       NaN      name  \n",
       "2      1.0      1.0       1.0       1.0       NaN       NaN      name  \n",
       "3      1.0      1.0       1.0       1.0       NaN       NaN      name  \n",
       "4      1.0      1.0       1.0       1.0       NaN       NaN      name  \n",
       "\n",
       "[5 rows x 76 columns]"
      ]
     },
     "execution_count": 48,
     "metadata": {},
     "output_type": "execute_result"
    }
   ],
   "source": [
    "#print do dataset\n",
    "dataset.head() # são 76 colunas, mas nem todas serão utilizadas para realizar a previsão de doença cardíaca"
   ]
  },
  {
   "cell_type": "code",
   "execution_count": 49,
   "metadata": {
    "colab": {
     "base_uri": "https://localhost:8080/",
     "height": 34
    },
    "colab_type": "code",
    "executionInfo": {
     "elapsed": 485,
     "status": "ok",
     "timestamp": 1578685968743,
     "user": {
      "displayName": "Tulio Philipe",
      "photoUrl": "https://lh3.googleusercontent.com/a-/AAuE7mA1ZGOGyoLKRxvjkdb3Nahe1kQsDTygha29jmC4YA=s64",
      "userId": "06907869093485551957"
     },
     "user_tz": 180
    },
    "id": "58CchuX9T7-O",
    "outputId": "cc9bc1ad-b4ab-4093-eec7-728d2f7da6a2"
   },
   "outputs": [
    {
     "data": {
      "text/plain": [
       "(617, 76)"
      ]
     },
     "execution_count": 49,
     "metadata": {},
     "output_type": "execute_result"
    }
   ],
   "source": [
    "dataset.shape # mostra a dimensão do dataset"
   ]
  },
  {
   "cell_type": "code",
   "execution_count": 50,
   "metadata": {
    "colab": {
     "base_uri": "https://localhost:8080/",
     "height": 1000
    },
    "colab_type": "code",
    "executionInfo": {
     "elapsed": 485,
     "status": "ok",
     "timestamp": 1578685983432,
     "user": {
      "displayName": "Tulio Philipe",
      "photoUrl": "https://lh3.googleusercontent.com/a-/AAuE7mA1ZGOGyoLKRxvjkdb3Nahe1kQsDTygha29jmC4YA=s64",
      "userId": "06907869093485551957"
     },
     "user_tz": 180
    },
    "id": "b86-phsqUyTt",
    "outputId": "c726c9fd-a8fd-40a9-bad0-5663f6a50c6b"
   },
   "outputs": [
    {
     "name": "stdout",
     "output_type": "stream",
     "text": [
      "<class 'pandas.core.frame.DataFrame'>\n",
      "RangeIndex: 617 entries, 0 to 616\n",
      "Data columns (total 76 columns):\n",
      " #   Column                        Non-Null Count  Dtype  \n",
      "---  ------                        --------------  -----  \n",
      " 0   _id                           617 non-null    int64  \n",
      " 1   ccf                           617 non-null    int64  \n",
      " 2   age                           617 non-null    int64  \n",
      " 3   sex                           617 non-null    int64  \n",
      " 4   pain location                 617 non-null    int64  \n",
      " 5   pain w exertion               617 non-null    int64  \n",
      " 6   relieved after rest           613 non-null    float64\n",
      " 7   pncaden                       0 non-null      float64\n",
      " 8   chest pain type               617 non-null    int64  \n",
      " 9   resting bp s                  558 non-null    float64\n",
      " 10  hypertension                  583 non-null    float64\n",
      " 11  cholesterol                   587 non-null    float64\n",
      " 12  smoker                        230 non-null    float64\n",
      " 13  cigarettes per day            202 non-null    float64\n",
      " 14  years of smoking              190 non-null    float64\n",
      " 15  fasting blood sugar           527 non-null    float64\n",
      " 16  diabetes                      72 non-null     float64\n",
      " 17  family hist                   195 non-null    float64\n",
      " 18  resting ecg                   615 non-null    float64\n",
      " 19  ekg month                     564 non-null    float64\n",
      " 20  ekg day                       563 non-null    float64\n",
      " 21  ekg yr                        564 non-null    float64\n",
      " 22  digitalis                     551 non-null    float64\n",
      " 23  beta blocker                  553 non-null    float64\n",
      " 24  nitrates                      554 non-null    float64\n",
      " 25  calcium channel blocker       556 non-null    float64\n",
      " 26  diuretic                      537 non-null    float64\n",
      " 27  exercise protocol             505 non-null    float64\n",
      " 28  duration of exercise          561 non-null    float64\n",
      " 29  thaltime                      233 non-null    float64\n",
      " 30  mets achieved                 512 non-null    float64\n",
      " 31  max heart rate                562 non-null    float64\n",
      " 32  resting heart rate            561 non-null    float64\n",
      " 33  peak exercise bp 1            554 non-null    float64\n",
      " 34  peak exercise bp 2            554 non-null    float64\n",
      " 35  dummy 1                       558 non-null    float64\n",
      " 36  resting bp d                  558 non-null    float64\n",
      " 37  exercise angina               562 non-null    float64\n",
      " 38  xhypo                         559 non-null    float64\n",
      " 39  oldpeak                       555 non-null    float64\n",
      " 40  ST slope                      309 non-null    float64\n",
      " 41  ST height at rest             474 non-null    float64\n",
      " 42  ST heaight at peak            475 non-null    float64\n",
      " 43  flouroscopy                   11 non-null     float64\n",
      " 44  dummy 2                       0 non-null      float64\n",
      " 45  dummy 3                       1 non-null      float64\n",
      " 46  resting ejection fraction     28 non-null     float64\n",
      " 47  rest wall motion abnormality  30 non-null     float64\n",
      " 48  exercise ejection fraction    2 non-null      float64\n",
      " 49  exercsie wall motion          5 non-null      float64\n",
      " 50  thal                          142 non-null    float64\n",
      " 51  dummy 4                       130 non-null    float64\n",
      " 52  dummy 5                       44 non-null     float64\n",
      " 53  dummy 6                       1 non-null      float64\n",
      " 54  cath month                    606 non-null    float64\n",
      " 55  cath day                      608 non-null    float64\n",
      " 56  cath yr                       608 non-null    float64\n",
      " 57  target                        617 non-null    int64  \n",
      " 58  lmt                           342 non-null    float64\n",
      " 59  ladprox                       381 non-null    float64\n",
      " 60  laddist                       371 non-null    float64\n",
      " 61  diag                          341 non-null    float64\n",
      " 62  cxmain                        382 non-null    float64\n",
      " 63  ramus                         332 non-null    float64\n",
      " 64  om1                           346 non-null    float64\n",
      " 65  om2                           327 non-null    float64\n",
      " 66  rcaprox                       372 non-null    float64\n",
      " 67  rcadist                       347 non-null    float64\n",
      " 68  dummy 7                       598 non-null    float64\n",
      " 69  dummy 8                       598 non-null    float64\n",
      " 70  dummy 9                       598 non-null    float64\n",
      " 71  dummy 10                      598 non-null    float64\n",
      " 72  dummy 11                      601 non-null    float64\n",
      " 73  dummy 12                      311 non-null    float64\n",
      " 74  dummy 13                      119 non-null    float64\n",
      " 75  dummy 14                      617 non-null    object \n",
      "dtypes: float64(67), int64(8), object(1)\n",
      "memory usage: 366.5+ KB\n"
     ]
    }
   ],
   "source": [
    "#conhecendo o dataset\n",
    "dataset.info()"
   ]
  },
  {
   "cell_type": "markdown",
   "metadata": {
    "colab_type": "text",
    "id": "C94xdHV8U_CT"
   },
   "source": [
    "**Existem vários dados nulos**"
   ]
  },
  {
   "cell_type": "code",
   "execution_count": 51,
   "metadata": {
    "colab": {
     "base_uri": "https://localhost:8080/",
     "height": 266
    },
    "colab_type": "code",
    "executionInfo": {
     "elapsed": 498,
     "status": "ok",
     "timestamp": 1578686019111,
     "user": {
      "displayName": "Tulio Philipe",
      "photoUrl": "https://lh3.googleusercontent.com/a-/AAuE7mA1ZGOGyoLKRxvjkdb3Nahe1kQsDTygha29jmC4YA=s64",
      "userId": "06907869093485551957"
     },
     "user_tz": 180
    },
    "id": "dP0j8CtCU7XC",
    "outputId": "404d392b-1417-4d2c-fd6b-a52f6311263f"
   },
   "outputs": [
    {
     "data": {
      "text/html": [
       "<div>\n",
       "<style scoped>\n",
       "    .dataframe tbody tr th:only-of-type {\n",
       "        vertical-align: middle;\n",
       "    }\n",
       "\n",
       "    .dataframe tbody tr th {\n",
       "        vertical-align: top;\n",
       "    }\n",
       "\n",
       "    .dataframe thead th {\n",
       "        text-align: right;\n",
       "    }\n",
       "</style>\n",
       "<table border=\"1\" class=\"dataframe\">\n",
       "  <thead>\n",
       "    <tr style=\"text-align: right;\">\n",
       "      <th></th>\n",
       "      <th>_id</th>\n",
       "      <th>ccf</th>\n",
       "      <th>age</th>\n",
       "      <th>sex</th>\n",
       "      <th>pain location</th>\n",
       "      <th>pain w exertion</th>\n",
       "      <th>relieved after rest</th>\n",
       "      <th>pncaden</th>\n",
       "      <th>chest pain type</th>\n",
       "      <th>resting bp s</th>\n",
       "      <th>...</th>\n",
       "      <th>rcaprox</th>\n",
       "      <th>rcadist</th>\n",
       "      <th>dummy 7</th>\n",
       "      <th>dummy 8</th>\n",
       "      <th>dummy 9</th>\n",
       "      <th>dummy 10</th>\n",
       "      <th>dummy 11</th>\n",
       "      <th>dummy 12</th>\n",
       "      <th>dummy 13</th>\n",
       "      <th>dummy 14</th>\n",
       "    </tr>\n",
       "  </thead>\n",
       "  <tbody>\n",
       "    <tr>\n",
       "      <th>0</th>\n",
       "      <td>1254</td>\n",
       "      <td>0</td>\n",
       "      <td>40</td>\n",
       "      <td>1</td>\n",
       "      <td>1</td>\n",
       "      <td>0</td>\n",
       "      <td>0.0</td>\n",
       "      <td>NaN</td>\n",
       "      <td>2</td>\n",
       "      <td>140.0</td>\n",
       "      <td>...</td>\n",
       "      <td>1.47043</td>\n",
       "      <td>1.207493</td>\n",
       "      <td>1.0</td>\n",
       "      <td>1.0</td>\n",
       "      <td>1.0</td>\n",
       "      <td>1.0</td>\n",
       "      <td>1.0</td>\n",
       "      <td>27.623119</td>\n",
       "      <td>5.869748</td>\n",
       "      <td>name</td>\n",
       "    </tr>\n",
       "    <tr>\n",
       "      <th>1</th>\n",
       "      <td>1255</td>\n",
       "      <td>0</td>\n",
       "      <td>49</td>\n",
       "      <td>0</td>\n",
       "      <td>1</td>\n",
       "      <td>0</td>\n",
       "      <td>0.0</td>\n",
       "      <td>NaN</td>\n",
       "      <td>3</td>\n",
       "      <td>160.0</td>\n",
       "      <td>...</td>\n",
       "      <td>1.47043</td>\n",
       "      <td>1.207493</td>\n",
       "      <td>1.0</td>\n",
       "      <td>1.0</td>\n",
       "      <td>1.0</td>\n",
       "      <td>1.0</td>\n",
       "      <td>1.0</td>\n",
       "      <td>27.623119</td>\n",
       "      <td>5.869748</td>\n",
       "      <td>name</td>\n",
       "    </tr>\n",
       "    <tr>\n",
       "      <th>2</th>\n",
       "      <td>1256</td>\n",
       "      <td>0</td>\n",
       "      <td>37</td>\n",
       "      <td>1</td>\n",
       "      <td>1</td>\n",
       "      <td>0</td>\n",
       "      <td>0.0</td>\n",
       "      <td>NaN</td>\n",
       "      <td>2</td>\n",
       "      <td>130.0</td>\n",
       "      <td>...</td>\n",
       "      <td>1.47043</td>\n",
       "      <td>1.207493</td>\n",
       "      <td>1.0</td>\n",
       "      <td>1.0</td>\n",
       "      <td>1.0</td>\n",
       "      <td>1.0</td>\n",
       "      <td>1.0</td>\n",
       "      <td>27.623119</td>\n",
       "      <td>5.869748</td>\n",
       "      <td>name</td>\n",
       "    </tr>\n",
       "    <tr>\n",
       "      <th>3</th>\n",
       "      <td>1257</td>\n",
       "      <td>0</td>\n",
       "      <td>48</td>\n",
       "      <td>0</td>\n",
       "      <td>1</td>\n",
       "      <td>1</td>\n",
       "      <td>1.0</td>\n",
       "      <td>NaN</td>\n",
       "      <td>4</td>\n",
       "      <td>138.0</td>\n",
       "      <td>...</td>\n",
       "      <td>2.00000</td>\n",
       "      <td>1.207493</td>\n",
       "      <td>1.0</td>\n",
       "      <td>1.0</td>\n",
       "      <td>1.0</td>\n",
       "      <td>1.0</td>\n",
       "      <td>1.0</td>\n",
       "      <td>27.623119</td>\n",
       "      <td>5.869748</td>\n",
       "      <td>name</td>\n",
       "    </tr>\n",
       "    <tr>\n",
       "      <th>4</th>\n",
       "      <td>1258</td>\n",
       "      <td>0</td>\n",
       "      <td>54</td>\n",
       "      <td>1</td>\n",
       "      <td>1</td>\n",
       "      <td>0</td>\n",
       "      <td>1.0</td>\n",
       "      <td>NaN</td>\n",
       "      <td>3</td>\n",
       "      <td>150.0</td>\n",
       "      <td>...</td>\n",
       "      <td>1.00000</td>\n",
       "      <td>1.207493</td>\n",
       "      <td>1.0</td>\n",
       "      <td>1.0</td>\n",
       "      <td>1.0</td>\n",
       "      <td>1.0</td>\n",
       "      <td>1.0</td>\n",
       "      <td>27.623119</td>\n",
       "      <td>5.869748</td>\n",
       "      <td>name</td>\n",
       "    </tr>\n",
       "  </tbody>\n",
       "</table>\n",
       "<p>5 rows × 76 columns</p>\n",
       "</div>"
      ],
      "text/plain": [
       "    _id  ccf  age  sex  pain location  pain w exertion  relieved after rest  \\\n",
       "0  1254    0   40    1              1                0                  0.0   \n",
       "1  1255    0   49    0              1                0                  0.0   \n",
       "2  1256    0   37    1              1                0                  0.0   \n",
       "3  1257    0   48    0              1                1                  1.0   \n",
       "4  1258    0   54    1              1                0                  1.0   \n",
       "\n",
       "   pncaden  chest pain type  resting bp s  ...  rcaprox   rcadist  dummy 7  \\\n",
       "0      NaN                2         140.0  ...  1.47043  1.207493      1.0   \n",
       "1      NaN                3         160.0  ...  1.47043  1.207493      1.0   \n",
       "2      NaN                2         130.0  ...  1.47043  1.207493      1.0   \n",
       "3      NaN                4         138.0  ...  2.00000  1.207493      1.0   \n",
       "4      NaN                3         150.0  ...  1.00000  1.207493      1.0   \n",
       "\n",
       "   dummy 8  dummy 9  dummy 10  dummy 11   dummy 12  dummy 13  dummy 14  \n",
       "0      1.0      1.0       1.0       1.0  27.623119  5.869748      name  \n",
       "1      1.0      1.0       1.0       1.0  27.623119  5.869748      name  \n",
       "2      1.0      1.0       1.0       1.0  27.623119  5.869748      name  \n",
       "3      1.0      1.0       1.0       1.0  27.623119  5.869748      name  \n",
       "4      1.0      1.0       1.0       1.0  27.623119  5.869748      name  \n",
       "\n",
       "[5 rows x 76 columns]"
      ]
     },
     "execution_count": 51,
     "metadata": {},
     "output_type": "execute_result"
    }
   ],
   "source": [
    "#tratando os dados nulos\n",
    "dataset.fillna(dataset.mean(), inplace=True) #substitui os dados que estão como NAN pela média dos valores na coluna\n",
    "dataset.head()"
   ]
  },
  {
   "cell_type": "markdown",
   "metadata": {
    "colab_type": "text",
    "id": "3uF0vR4EV3Vo"
   },
   "source": [
    "**Preparando os dados**"
   ]
  },
  {
   "cell_type": "code",
   "execution_count": 52,
   "metadata": {
    "colab": {},
    "colab_type": "code",
    "id": "NJZucbGrVSrh"
   },
   "outputs": [],
   "source": [
    "dataset_to_array = np.array(dataset) #transforma o dataframe em array para facilitar a escolha dos dados a serem utilizados"
   ]
  },
  {
   "cell_type": "code",
   "execution_count": 53,
   "metadata": {
    "colab": {
     "base_uri": "https://localhost:8080/",
     "height": 504
    },
    "colab_type": "code",
    "executionInfo": {
     "elapsed": 554,
     "status": "ok",
     "timestamp": 1578686127900,
     "user": {
      "displayName": "Tulio Philipe",
      "photoUrl": "https://lh3.googleusercontent.com/a-/AAuE7mA1ZGOGyoLKRxvjkdb3Nahe1kQsDTygha29jmC4YA=s64",
      "userId": "06907869093485551957"
     },
     "user_tz": 180
    },
    "id": "_Ktlp6O_WDbi",
    "outputId": "5dbbab8f-ee62-4c54-accd-7a410a72deb4"
   },
   "outputs": [
    {
     "data": {
      "text/plain": [
       "array([0, 1, 0, 3, 0, 0, 0, 0, 1, 0, 0, 3, 0, 3, 0, 0, 1, 0, 1, 1, 0, 0,\n",
       "       0, 3, 0, 0, 0, 0, 0, 0, 3, 0, 1, 3, 0, 0, 1, 0, 0, 0, 0, 4, 0, 0,\n",
       "       3, 0, 0, 0, 0, 1, 2, 4, 0, 0, 0, 0, 1, 1, 0, 3, 0, 0, 0, 1, 0, 0,\n",
       "       0, 0, 3, 0, 1, 0, 2, 0, 2, 0, 2, 0, 0, 1, 0, 0, 1, 0, 2, 3, 3, 0,\n",
       "       2, 0, 0, 0, 0, 2, 0, 2, 0, 0, 0, 0, 4, 0, 2, 1, 1, 0, 0, 0, 0, 0,\n",
       "       0, 2, 0, 0, 0, 1, 1, 1, 0, 1, 3, 0, 0, 4, 0, 0, 0, 0, 0, 0, 0, 1,\n",
       "       3, 3, 0, 1, 0, 0, 2, 1, 4, 4, 4, 0, 3, 0, 0, 0, 0, 2, 0, 0, 0, 0,\n",
       "       0, 4, 2, 0, 3, 0, 3, 4, 0, 0, 0, 0, 3, 4, 0, 0, 0, 0, 0, 0, 0, 4,\n",
       "       4, 3, 0, 0, 0, 1, 0, 3, 0, 0, 2, 0, 1, 0, 3, 0, 0, 0, 0, 0, 0, 0,\n",
       "       0, 2, 0, 0, 0, 0, 0, 0, 0, 0, 1, 0, 1, 1, 1, 0, 0, 1, 0, 2, 0, 0,\n",
       "       0, 2, 1, 0, 0, 0, 1, 0, 1, 0, 0, 0, 0, 0, 0, 0, 0, 4, 3, 2, 2, 0,\n",
       "       2, 3, 0, 1, 0, 2, 2, 2, 3, 4, 1, 0, 0, 3, 0, 0, 0, 0, 0, 0, 0, 2,\n",
       "       3, 1, 0, 3, 0, 2, 0, 0, 0, 1, 0, 0, 0, 3, 2, 0, 0, 0, 4, 0, 0, 0,\n",
       "       0, 0, 0, 0, 0, 0, 0, 0, 1, 1, 1, 1, 3, 4, 2, 1, 0, 4, 1, 2, 2, 1,\n",
       "       0, 1, 1, 0, 3, 2, 1, 0, 1, 1, 1, 3, 1, 1, 1, 2, 2, 1, 1, 0, 1, 2,\n",
       "       1, 1, 1, 0, 2, 2, 1, 0, 3, 2, 1, 3, 1, 1, 2, 3, 1, 2, 2, 3, 1, 1,\n",
       "       2, 2, 4, 4, 2, 1, 3, 1, 1, 3, 1, 2, 2, 0, 3, 2, 3, 2, 3, 3, 3, 1,\n",
       "       1, 3, 1, 3, 3, 3, 3, 3, 3, 4, 1, 2, 1, 2, 2, 2, 2, 2, 1, 3, 1, 2,\n",
       "       2, 2, 1, 2, 3, 1, 1, 3, 2, 1, 3, 3, 1, 3, 1, 3, 1, 3, 2, 3, 1, 2,\n",
       "       0, 2, 1, 0, 0, 3, 0, 3, 1, 0, 1, 1, 1, 1, 0, 4, 1, 0, 0, 2, 1, 3,\n",
       "       0, 2, 2, 2, 1, 1, 3, 3, 3, 3, 3, 2, 3, 2, 0, 1, 0, 3, 1, 3, 0, 4,\n",
       "       2, 1, 0, 2, 0, 1, 0, 2, 0, 1, 2, 2, 3, 0, 1, 0, 2, 1, 4, 2, 2, 3,\n",
       "       1, 1, 1, 0, 2, 0, 3, 3, 1, 2, 3, 2, 1, 0, 2, 2, 2, 4, 2, 3, 0, 1,\n",
       "       1, 3, 0, 3, 1, 0, 3, 0, 1, 1, 0, 1, 3, 1, 1, 0, 3, 1, 1, 0, 0, 3,\n",
       "       0, 3, 1, 1, 3, 2, 2, 3, 1, 2, 3, 1, 0, 1, 4, 1, 2, 0, 0, 1, 3, 1,\n",
       "       0, 3, 0, 3, 3, 0, 2, 0, 4, 2, 4, 0, 0, 0, 1, 3, 3, 0, 3, 1, 1, 2,\n",
       "       2, 2, 2, 2, 1, 4, 3, 3, 3, 1, 3, 2, 0, 2, 1, 1, 0, 3, 1, 0, 0, 4,\n",
       "       2, 3, 1, 1, 0, 1, 1, 0, 1, 3, 2, 2, 0, 0, 4, 3, 1, 2, 1, 0, 2, 0,\n",
       "       1])"
      ]
     },
     "execution_count": 53,
     "metadata": {},
     "output_type": "execute_result"
    }
   ],
   "source": [
    "target = dataset_to_array[:,57] # esse é o vetor de saída (target)\n",
    "target= target.astype('int') #indica o tipo de dados\n",
    "#target[target>0] = 1 # 0 para o coração saudável e 1 para problema detectado\n",
    "target"
   ]
  },
  {
   "cell_type": "markdown",
   "metadata": {
    "colab_type": "text",
    "id": "SgCb0sRtXrrp"
   },
   "source": [
    "**Iniciando a previsão**"
   ]
  },
  {
   "cell_type": "code",
   "execution_count": 54,
   "metadata": {
    "colab": {},
    "colab_type": "code",
    "id": "t8ayYC7WVzp8"
   },
   "outputs": [
    {
     "data": {
      "text/plain": [
       "array([[289.0, 200.0, 110.0, 140.0, 86.0, 0.0],\n",
       "       [180.0, 220.0, 106.0, 160.0, 90.0, 0.0],\n",
       "       [283.0, 180.0, 100.0, 130.0, 80.0, 0.0],\n",
       "       ...,\n",
       "       [223.0, 210.0, 100.0, 122.0, 70.0, 0.0],\n",
       "       [385.0, 173.46570397111913, 91.64440433212997, 132.37275985663084,\n",
       "        82.80465949820788, 0.028622540250447227],\n",
       "       [254.0, 164.0, 110.0, 120.0, 80.0, 0.0]], dtype=object)"
      ]
     },
     "execution_count": 54,
     "metadata": {},
     "output_type": "execute_result"
    }
   ],
   "source": [
    "# Estamos transformando vários arrays lineares em um array 2D\n",
    "dataset_sensor = np.column_stack(( \n",
    "    dataset_to_array[:,11], # pressão sanguínea em repouso\n",
    "    dataset_to_array[:,33], # frequencia máxima atingida\n",
    "    dataset_to_array[:,34], # frequencia cardíaca em repouso\n",
    "    dataset_to_array[:,35], # pico de pressão sanguínea durante exercício \n",
    "    dataset_to_array[:,36], # pico de pressão sanguínea durante exercício  \n",
    "    dataset_to_array[:,38] # pressão sanguínea em repouso\n",
    " ))\n",
    "dataset_sensor"
   ]
  },
  {
   "cell_type": "code",
   "execution_count": 55,
   "metadata": {
    "colab": {},
    "colab_type": "code",
    "id": "bnKTiB8wXk06"
   },
   "outputs": [
    {
     "data": {
      "text/plain": [
       "array([[1, 0.0, 140.0, ..., 40, 1, 0.0],\n",
       "       [1, 0.0, 160.0, ..., 49, 0, 1.0],\n",
       "       [1, 0.0, 130.0, ..., 37, 1, 0.0],\n",
       "       ...,\n",
       "       [1, 1.0, 122.0, ..., 55, 1, 1.0],\n",
       "       [1, 1.0, 132.37275985663084, ..., 58, 1, 0.0],\n",
       "       [1, 0.0, 120.0, ..., 62, 1, 1.0]], dtype=object)"
      ]
     },
     "execution_count": 55,
     "metadata": {},
     "output_type": "execute_result"
    }
   ],
   "source": [
    "#dataset com os dados médicos do paciente\n",
    "dataset_medico = np.column_stack((dataset_to_array[:,4] , # localização da dor\n",
    "    dataset_to_array[:,6] , # Se sente alívio após descansar\n",
    "    dataset_to_array[:,9] , # tipo de dor \n",
    "    dataset_to_array[:,39], # angina induzida pelo exercício (1 = sim; 0 = nao) \n",
    "    dataset.age, # idade \n",
    "    dataset.sex , # sexo\n",
    "    dataset.hypertension # hipertensão\n",
    " ))\n",
    "dataset_medico"
   ]
  },
  {
   "cell_type": "code",
   "execution_count": 56,
   "metadata": {
    "colab": {
     "base_uri": "https://localhost:8080/",
     "height": 151
    },
    "colab_type": "code",
    "executionInfo": {
     "elapsed": 498,
     "status": "ok",
     "timestamp": 1578686302584,
     "user": {
      "displayName": "Tulio Philipe",
      "photoUrl": "https://lh3.googleusercontent.com/a-/AAuE7mA1ZGOGyoLKRxvjkdb3Nahe1kQsDTygha29jmC4YA=s64",
      "userId": "06907869093485551957"
     },
     "user_tz": 180
    },
    "id": "o1QZCik5YeDB",
    "outputId": "27fffa01-b0a2-4787-fc6e-549696245560"
   },
   "outputs": [
    {
     "data": {
      "text/plain": [
       "array([[1, 0.0, 140.0, ..., 140.0, 86.0, 0.0],\n",
       "       [1, 0.0, 160.0, ..., 160.0, 90.0, 0.0],\n",
       "       [1, 0.0, 130.0, ..., 130.0, 80.0, 0.0],\n",
       "       ...,\n",
       "       [1, 1.0, 122.0, ..., 122.0, 70.0, 0.0],\n",
       "       [1, 1.0, 132.37275985663084, ..., 132.37275985663084,\n",
       "        82.80465949820788, 0.028622540250447227],\n",
       "       [1, 0.0, 120.0, ..., 120.0, 80.0, 0.0]], dtype=object)"
      ]
     },
     "execution_count": 56,
     "metadata": {},
     "output_type": "execute_result"
    }
   ],
   "source": [
    "# Basicamente adiciona ao final de cada linha em dataset_medico\n",
    "# a linha de índice correspondente em dataset_sensor\n",
    "dataset_paciente=np.concatenate((dataset_medico,dataset_sensor),axis=1)\n",
    "dataset_paciente"
   ]
  },
  {
   "cell_type": "code",
   "execution_count": 57,
   "metadata": {
    "colab": {
     "base_uri": "https://localhost:8080/",
     "height": 34
    },
    "colab_type": "code",
    "executionInfo": {
     "elapsed": 528,
     "status": "ok",
     "timestamp": 1578686306425,
     "user": {
      "displayName": "Tulio Philipe",
      "photoUrl": "https://lh3.googleusercontent.com/a-/AAuE7mA1ZGOGyoLKRxvjkdb3Nahe1kQsDTygha29jmC4YA=s64",
      "userId": "06907869093485551957"
     },
     "user_tz": 180
    },
    "id": "A4lMZl8eZcqt",
    "outputId": "d247c56f-0eb3-4143-fb18-aa9d1e49d8de"
   },
   "outputs": [
    {
     "data": {
      "text/plain": [
       "(617, 13)"
      ]
     },
     "execution_count": 57,
     "metadata": {},
     "output_type": "execute_result"
    }
   ],
   "source": [
    "# Basicamente, de 76 parâmetros diferentes, escolhemos apenas 13 para compor nosso dataset\n",
    "dataset_paciente.shape"
   ]
  },
  {
   "cell_type": "code",
   "execution_count": 58,
   "metadata": {
    "colab": {},
    "colab_type": "code",
    "id": "k4LBysQaZiFY"
   },
   "outputs": [],
   "source": [
    "#encontrando os dados para treinamento e teste\n",
    "X_train, X_test, y_train, y_test = train_test_split(dataset_paciente, target, random_state = 223)"
   ]
  },
  {
   "cell_type": "code",
   "execution_count": 59,
   "metadata": {
    "colab": {},
    "colab_type": "code",
    "id": "PjZag22BZuu3"
   },
   "outputs": [],
   "source": [
    "#cria o objeto SVM\n",
    "modelSVM = SVC(kernel = 'linear') #escolha do kernel polinomial"
   ]
  },
  {
   "cell_type": "code",
   "execution_count": 60,
   "metadata": {
    "colab": {
     "base_uri": "https://localhost:8080/",
     "height": 84
    },
    "colab_type": "code",
    "executionInfo": {
     "elapsed": 12382,
     "status": "ok",
     "timestamp": 1578686403185,
     "user": {
      "displayName": "Tulio Philipe",
      "photoUrl": "https://lh3.googleusercontent.com/a-/AAuE7mA1ZGOGyoLKRxvjkdb3Nahe1kQsDTygha29jmC4YA=s64",
      "userId": "06907869093485551957"
     },
     "user_tz": 180
    },
    "id": "M5F5UO3bZ6Z-",
    "outputId": "68527e04-47f2-4d6b-8ccd-0c196ecdc640"
   },
   "outputs": [
    {
     "data": {
      "text/plain": [
       "SVC(kernel='linear')"
      ]
     },
     "execution_count": 60,
     "metadata": {},
     "output_type": "execute_result"
    }
   ],
   "source": [
    "#aplica o treinamento ao modelo\n",
    "modelSVM.fit(X_train, y_train)\n"
   ]
  },
  {
   "cell_type": "markdown",
   "metadata": {
    "colab_type": "text",
    "id": "cwO-j2FAatoD"
   },
   "source": [
    "**Analisando a performance do modelo**"
   ]
  },
  {
   "cell_type": "code",
   "execution_count": 61,
   "metadata": {
    "colab": {},
    "colab_type": "code",
    "id": "fCY_3D4Daysw"
   },
   "outputs": [],
   "source": [
    "previsao = modelSVM.predict(X_test) #aplica o modelo para os dados de teste"
   ]
  },
  {
   "cell_type": "code",
   "execution_count": 62,
   "metadata": {
    "colab": {
     "base_uri": "https://localhost:8080/",
     "height": 67
    },
    "colab_type": "code",
    "executionInfo": {
     "elapsed": 518,
     "status": "ok",
     "timestamp": 1578686447778,
     "user": {
      "displayName": "Tulio Philipe",
      "photoUrl": "https://lh3.googleusercontent.com/a-/AAuE7mA1ZGOGyoLKRxvjkdb3Nahe1kQsDTygha29jmC4YA=s64",
      "userId": "06907869093485551957"
     },
     "user_tz": 180
    },
    "id": "bThfTJz2a9OB",
    "outputId": "7a75c21a-49bc-4886-9a77-fb9960119654"
   },
   "outputs": [
    {
     "name": "stdout",
     "output_type": "stream",
     "text": [
      "Acuracia utilizando o SVM : 0.5419354838709678 \n",
      "Em porcentagem :  54 %\n",
      "\n"
     ]
    }
   ],
   "source": [
    "#encontra a acuracia do modelo de previsão utilizando o SVM \n",
    "accuracia = accuracy_score(y_test, previsao)\n",
    "print (\"Acuracia utilizando o SVM :\" , accuracia , \"\\nEm porcentagem : \", round(accuracia*100) , \"%\\n\")"
   ]
  },
  {
   "cell_type": "code",
   "execution_count": 63,
   "metadata": {
    "colab": {
     "base_uri": "https://localhost:8080/",
     "height": 445
    },
    "colab_type": "code",
    "executionInfo": {
     "elapsed": 772,
     "status": "ok",
     "timestamp": 1578686458893,
     "user": {
      "displayName": "Tulio Philipe",
      "photoUrl": "https://lh3.googleusercontent.com/a-/AAuE7mA1ZGOGyoLKRxvjkdb3Nahe1kQsDTygha29jmC4YA=s64",
      "userId": "06907869093485551957"
     },
     "user_tz": 180
    },
    "id": "A0sTVqrCbcrt",
    "outputId": "d7e73534-d7b6-42b6-8b60-ee8f093fe717"
   },
   "outputs": [
    {
     "data": {
      "text/plain": [
       "<matplotlib.axes._subplots.AxesSubplot at 0x7ffa8bceb340>"
      ]
     },
     "execution_count": 63,
     "metadata": {},
     "output_type": "execute_result"
    },
    {
     "data": {
      "image/png": "[encoded data removed]",
      "text/plain": [
       "<Figure size 720x504 with 2 Axes>"
      ]
     },
     "metadata": {
      "needs_background": "light"
     },
     "output_type": "display_data"
    }
   ],
   "source": [
    "#criando a matriz de confusão\n",
    "import pandas as pd\n",
    "import seaborn as sn\n",
    "import matplotlib.pyplot as plt\n",
    "\n",
    "cm = confusion_matrix(y_test, previsao) #gera a matriz de confusão\n",
    "df_cm = pd.DataFrame(cm, index = [i for i in \"01234\"],columns = [i for i in \"01234\"]) #cria o df com as classes\n",
    "plt.figure(figsize = (10,7)) #indica o tamanho da figura \n",
    "sn.heatmap(df_cm, annot=True) #plota a figura\n"
   ]
  },
  {
   "cell_type": "markdown",
   "metadata": {
    "colab_type": "text",
    "id": "fzV6ShEfFEyP"
   },
   "source": [
    "**Modificando o Dataset**"
   ]
  },
  {
   "cell_type": "code",
   "execution_count": 64,
   "metadata": {
    "colab": {},
    "colab_type": "code",
    "id": "8jareMaWUE_b"
   },
   "outputs": [
    {
     "data": {
      "text/plain": [
       "array([0, 1, 0, 3, 0, 0, 0, 0, 1, 0, 0, 3, 0, 3, 0, 0, 1, 0, 1, 1, 0, 0,\n",
       "       0, 3, 0, 0, 0, 0, 0, 0, 3, 0, 1, 3, 0, 0, 1, 0, 0, 0, 0, 4, 0, 0,\n",
       "       3, 0, 0, 0, 0, 1, 2, 4, 0, 0, 0, 0, 1, 1, 0, 3, 0, 0, 0, 1, 0, 0,\n",
       "       0, 0, 3, 0, 1, 0, 2, 0, 2, 0, 2, 0, 0, 1, 0, 0, 1, 0, 2, 3, 3, 0,\n",
       "       2, 0, 0, 0, 0, 2, 0, 2, 0, 0, 0, 0, 4, 0, 2, 1, 1, 0, 0, 0, 0, 0,\n",
       "       0, 2, 0, 0, 0, 1, 1, 1, 0, 1, 3, 0, 0, 4, 0, 0, 0, 0, 0, 0, 0, 1,\n",
       "       3, 3, 0, 1, 0, 0, 2, 1, 4, 4, 4, 0, 3, 0, 0, 0, 0, 2, 0, 0, 0, 0,\n",
       "       0, 4, 2, 0, 3, 0, 3, 4, 0, 0, 0, 0, 3, 4, 0, 0, 0, 0, 0, 0, 0, 4,\n",
       "       4, 3, 0, 0, 0, 1, 0, 3, 0, 0, 2, 0, 1, 0, 3, 0, 0, 0, 0, 0, 0, 0,\n",
       "       0, 2, 0, 0, 0, 0, 0, 0, 0, 0, 1, 0, 1, 1, 1, 0, 0, 1, 0, 2, 0, 0,\n",
       "       0, 2, 1, 0, 0, 0, 1, 0, 1, 0, 0, 0, 0, 0, 0, 0, 0, 4, 3, 2, 2, 0,\n",
       "       2, 3, 0, 1, 0, 2, 2, 2, 3, 4, 1, 0, 0, 3, 0, 0, 0, 0, 0, 0, 0, 2,\n",
       "       3, 1, 0, 3, 0, 2, 0, 0, 0, 1, 0, 0, 0, 3, 2, 0, 0, 0, 4, 0, 0, 0,\n",
       "       0, 0, 0, 0, 0, 0, 0, 0, 1, 1, 1, 1, 3, 4, 2, 1, 0, 4, 1, 2, 2, 1,\n",
       "       0, 1, 1, 0, 3, 2, 1, 0, 1, 1, 1, 3, 1, 1, 1, 2, 2, 1, 1, 0, 1, 2,\n",
       "       1, 1, 1, 0, 2, 2, 1, 0, 3, 2, 1, 3, 1, 1, 2, 3, 1, 2, 2, 3, 1, 1,\n",
       "       2, 2, 4, 4, 2, 1, 3, 1, 1, 3, 1, 2, 2, 0, 3, 2, 3, 2, 3, 3, 3, 1,\n",
       "       1, 3, 1, 3, 3, 3, 3, 3, 3, 4, 1, 2, 1, 2, 2, 2, 2, 2, 1, 3, 1, 2,\n",
       "       2, 2, 1, 2, 3, 1, 1, 3, 2, 1, 3, 3, 1, 3, 1, 3, 1, 3, 2, 3, 1, 2,\n",
       "       0, 2, 1, 0, 0, 3, 0, 3, 1, 0, 1, 1, 1, 1, 0, 4, 1, 0, 0, 2, 1, 3,\n",
       "       0, 2, 2, 2, 1, 1, 3, 3, 3, 3, 3, 2, 3, 2, 0, 1, 0, 3, 1, 3, 0, 4,\n",
       "       2, 1, 0, 2, 0, 1, 0, 2, 0, 1, 2, 2, 3, 0, 1, 0, 2, 1, 4, 2, 2, 3,\n",
       "       1, 1, 1, 0, 2, 0, 3, 3, 1, 2, 3, 2, 1, 0, 2, 2, 2, 4, 2, 3, 0, 1,\n",
       "       1, 3, 0, 3, 1, 0, 3, 0, 1, 1, 0, 1, 3, 1, 1, 0, 3, 1, 1, 0, 0, 3,\n",
       "       0, 3, 1, 1, 3, 2, 2, 3, 1, 2, 3, 1, 0, 1, 4, 1, 2, 0, 0, 1, 3, 1,\n",
       "       0, 3, 0, 3, 3, 0, 2, 0, 4, 2, 4, 0, 0, 0, 1, 3, 3, 0, 3, 1, 1, 2,\n",
       "       2, 2, 2, 2, 1, 4, 3, 3, 3, 1, 3, 2, 0, 2, 1, 1, 0, 3, 1, 0, 0, 4,\n",
       "       2, 3, 1, 1, 0, 1, 1, 0, 1, 3, 2, 2, 0, 0, 4, 3, 1, 2, 1, 0, 2, 0,\n",
       "       1])"
      ]
     },
     "execution_count": 64,
     "metadata": {},
     "output_type": "execute_result"
    }
   ],
   "source": [
    "#vamos escolher apenas 13 atributos para realizar a previsão de doenças cardíacas\n",
    "\n",
    "dataset_to_array = np.array(dataset)\n",
    "label = dataset_to_array[:,57] # \"Target\" classes binárias 0 e 1\n",
    "label = label.astype('int')\n",
    "label"
   ]
  },
  {
   "cell_type": "code",
   "execution_count": 65,
   "metadata": {
    "colab": {
     "base_uri": "https://localhost:8080/",
     "height": 504
    },
    "colab_type": "code",
    "executionInfo": {
     "elapsed": 507,
     "status": "ok",
     "timestamp": 1578686535956,
     "user": {
      "displayName": "Tulio Philipe",
      "photoUrl": "https://lh3.googleusercontent.com/a-/AAuE7mA1ZGOGyoLKRxvjkdb3Nahe1kQsDTygha29jmC4YA=s64",
      "userId": "06907869093485551957"
     },
     "user_tz": 180
    },
    "id": "IZam65HIGEjc",
    "outputId": "13a21926-57cd-4e50-c3a3-ef0fc07071e7"
   },
   "outputs": [
    {
     "data": {
      "text/plain": [
       "array([0, 1, 0, 1, 0, 0, 0, 0, 1, 0, 0, 1, 0, 1, 0, 0, 1, 0, 1, 1, 0, 0,\n",
       "       0, 1, 0, 0, 0, 0, 0, 0, 1, 0, 1, 1, 0, 0, 1, 0, 0, 0, 0, 1, 0, 0,\n",
       "       1, 0, 0, 0, 0, 1, 1, 1, 0, 0, 0, 0, 1, 1, 0, 1, 0, 0, 0, 1, 0, 0,\n",
       "       0, 0, 1, 0, 1, 0, 1, 0, 1, 0, 1, 0, 0, 1, 0, 0, 1, 0, 1, 1, 1, 0,\n",
       "       1, 0, 0, 0, 0, 1, 0, 1, 0, 0, 0, 0, 1, 0, 1, 1, 1, 0, 0, 0, 0, 0,\n",
       "       0, 1, 0, 0, 0, 1, 1, 1, 0, 1, 1, 0, 0, 1, 0, 0, 0, 0, 0, 0, 0, 1,\n",
       "       1, 1, 0, 1, 0, 0, 1, 1, 1, 1, 1, 0, 1, 0, 0, 0, 0, 1, 0, 0, 0, 0,\n",
       "       0, 1, 1, 0, 1, 0, 1, 1, 0, 0, 0, 0, 1, 1, 0, 0, 0, 0, 0, 0, 0, 1,\n",
       "       1, 1, 0, 0, 0, 1, 0, 1, 0, 0, 1, 0, 1, 0, 1, 0, 0, 0, 0, 0, 0, 0,\n",
       "       0, 1, 0, 0, 0, 0, 0, 0, 0, 0, 1, 0, 1, 1, 1, 0, 0, 1, 0, 1, 0, 0,\n",
       "       0, 1, 1, 0, 0, 0, 1, 0, 1, 0, 0, 0, 0, 0, 0, 0, 0, 1, 1, 1, 1, 0,\n",
       "       1, 1, 0, 1, 0, 1, 1, 1, 1, 1, 1, 0, 0, 1, 0, 0, 0, 0, 0, 0, 0, 1,\n",
       "       1, 1, 0, 1, 0, 1, 0, 0, 0, 1, 0, 0, 0, 1, 1, 0, 0, 0, 1, 0, 0, 0,\n",
       "       0, 0, 0, 0, 0, 0, 0, 0, 1, 1, 1, 1, 1, 1, 1, 1, 0, 1, 1, 1, 1, 1,\n",
       "       0, 1, 1, 0, 1, 1, 1, 0, 1, 1, 1, 1, 1, 1, 1, 1, 1, 1, 1, 0, 1, 1,\n",
       "       1, 1, 1, 0, 1, 1, 1, 0, 1, 1, 1, 1, 1, 1, 1, 1, 1, 1, 1, 1, 1, 1,\n",
       "       1, 1, 1, 1, 1, 1, 1, 1, 1, 1, 1, 1, 1, 0, 1, 1, 1, 1, 1, 1, 1, 1,\n",
       "       1, 1, 1, 1, 1, 1, 1, 1, 1, 1, 1, 1, 1, 1, 1, 1, 1, 1, 1, 1, 1, 1,\n",
       "       1, 1, 1, 1, 1, 1, 1, 1, 1, 1, 1, 1, 1, 1, 1, 1, 1, 1, 1, 1, 1, 1,\n",
       "       0, 1, 1, 0, 0, 1, 0, 1, 1, 0, 1, 1, 1, 1, 0, 1, 1, 0, 0, 1, 1, 1,\n",
       "       0, 1, 1, 1, 1, 1, 1, 1, 1, 1, 1, 1, 1, 1, 0, 1, 0, 1, 1, 1, 0, 1,\n",
       "       1, 1, 0, 1, 0, 1, 0, 1, 0, 1, 1, 1, 1, 0, 1, 0, 1, 1, 1, 1, 1, 1,\n",
       "       1, 1, 1, 0, 1, 0, 1, 1, 1, 1, 1, 1, 1, 0, 1, 1, 1, 1, 1, 1, 0, 1,\n",
       "       1, 1, 0, 1, 1, 0, 1, 0, 1, 1, 0, 1, 1, 1, 1, 0, 1, 1, 1, 0, 0, 1,\n",
       "       0, 1, 1, 1, 1, 1, 1, 1, 1, 1, 1, 1, 0, 1, 1, 1, 1, 0, 0, 1, 1, 1,\n",
       "       0, 1, 0, 1, 1, 0, 1, 0, 1, 1, 1, 0, 0, 0, 1, 1, 1, 0, 1, 1, 1, 1,\n",
       "       1, 1, 1, 1, 1, 1, 1, 1, 1, 1, 1, 1, 0, 1, 1, 1, 0, 1, 1, 0, 0, 1,\n",
       "       1, 1, 1, 1, 0, 1, 1, 0, 1, 1, 1, 1, 0, 0, 1, 1, 1, 1, 1, 0, 1, 0,\n",
       "       1])"
      ]
     },
     "execution_count": 65,
     "metadata": {},
     "output_type": "execute_result"
    }
   ],
   "source": [
    "label[label>0] = 1 # Quando os dados são 0 está saldável e 1 doente\n",
    "label"
   ]
  },
  {
   "cell_type": "code",
   "execution_count": 66,
   "metadata": {
    "colab": {},
    "colab_type": "code",
    "id": "1t8Rq6j-FIbz"
   },
   "outputs": [],
   "source": [
    "#encontrando os dados para treinamento e teste\n",
    "X_train, X_test, y_train, y_test = train_test_split(dataset_paciente, label, random_state = 223)"
   ]
  },
  {
   "cell_type": "code",
   "execution_count": 67,
   "metadata": {
    "colab": {},
    "colab_type": "code",
    "id": "S4NNAe9HFIb3"
   },
   "outputs": [],
   "source": [
    "#cria o objeto SVM\n",
    "modelSVM = SVC(kernel = 'linear') #escolha do kernel polinomial"
   ]
  },
  {
   "cell_type": "code",
   "execution_count": 68,
   "metadata": {
    "colab": {
     "base_uri": "https://localhost:8080/",
     "height": 84
    },
    "colab_type": "code",
    "executionInfo": {
     "elapsed": 2715,
     "status": "ok",
     "timestamp": 1578686567388,
     "user": {
      "displayName": "Tulio Philipe",
      "photoUrl": "https://lh3.googleusercontent.com/a-/AAuE7mA1ZGOGyoLKRxvjkdb3Nahe1kQsDTygha29jmC4YA=s64",
      "userId": "06907869093485551957"
     },
     "user_tz": 180
    },
    "id": "sYhYbguwFIb4",
    "outputId": "f7ad69bb-75f8-48d7-a03e-c2e0cadd3600"
   },
   "outputs": [
    {
     "data": {
      "text/plain": [
       "SVC(kernel='linear')"
      ]
     },
     "execution_count": 68,
     "metadata": {},
     "output_type": "execute_result"
    }
   ],
   "source": [
    "#aplica o treinamento ao modelo\n",
    "modelSVM.fit(X_train, y_train)\n"
   ]
  },
  {
   "cell_type": "code",
   "execution_count": 69,
   "metadata": {
    "colab": {},
    "colab_type": "code",
    "id": "sNdnj8-uFIb8"
   },
   "outputs": [],
   "source": [
    "previsao = modelSVM.predict(X_test) #aplica o modelo para os dados de teste"
   ]
  },
  {
   "cell_type": "code",
   "execution_count": 70,
   "metadata": {
    "colab": {
     "base_uri": "https://localhost:8080/",
     "height": 67
    },
    "colab_type": "code",
    "executionInfo": {
     "elapsed": 484,
     "status": "ok",
     "timestamp": 1578686578669,
     "user": {
      "displayName": "Tulio Philipe",
      "photoUrl": "https://lh3.googleusercontent.com/a-/AAuE7mA1ZGOGyoLKRxvjkdb3Nahe1kQsDTygha29jmC4YA=s64",
      "userId": "06907869093485551957"
     },
     "user_tz": 180
    },
    "id": "eDWqYUsHFIb-",
    "outputId": "5cccb903-30a3-47b9-dd6d-a8b655b99831"
   },
   "outputs": [
    {
     "name": "stdout",
     "output_type": "stream",
     "text": [
      "Acuracia utilizando o SVM : 0.7419354838709677 \n",
      "Em porcentagem :  74 %\n",
      "\n"
     ]
    }
   ],
   "source": [
    "#encontra a acuracia do modelo de previsão utilizando o SVM \n",
    "accuracia = accuracy_score(y_test, previsao)\n",
    "print (\"Acuracia utilizando o SVM :\" , accuracia , \"\\nEm porcentagem : \", round(accuracia*100) , \"%\\n\")"
   ]
  },
  {
   "cell_type": "code",
   "execution_count": 71,
   "metadata": {
    "colab": {
     "base_uri": "https://localhost:8080/",
     "height": 445
    },
    "colab_type": "code",
    "executionInfo": {
     "elapsed": 536,
     "status": "ok",
     "timestamp": 1578686594394,
     "user": {
      "displayName": "Tulio Philipe",
      "photoUrl": "https://lh3.googleusercontent.com/a-/AAuE7mA1ZGOGyoLKRxvjkdb3Nahe1kQsDTygha29jmC4YA=s64",
      "userId": "06907869093485551957"
     },
     "user_tz": 180
    },
    "id": "ynQAVuZEFIcA",
    "outputId": "b0cf3c55-8ac0-43a7-818f-c5e906fbd353"
   },
   "outputs": [
    {
     "data": {
      "text/plain": [
       "<matplotlib.axes._subplots.AxesSubplot at 0x7ffa8e7ede20>"
      ]
     },
     "execution_count": 71,
     "metadata": {},
     "output_type": "execute_result"
    },
    {
     "data": {
      "image/png": "[encoded data removed]",
      "text/plain": [
       "<Figure size 720x504 with 2 Axes>"
      ]
     },
     "metadata": {
      "needs_background": "light"
     },
     "output_type": "display_data"
    }
   ],
   "source": [
    "#criando a matriz de confusão\n",
    "import pandas as pd\n",
    "import seaborn as sn\n",
    "import matplotlib.pyplot as plt\n",
    "\n",
    "cm = confusion_matrix(y_test, previsao) #gera a matriz de confusão\n",
    "df_cm = pd.DataFrame(cm, index = [i for i in \"01\"],columns = [i for i in \"01\"]) #cria o df com as classes\n",
    "plt.figure(figsize = (10,7)) #indica o tamanho da figura \n",
    "sn.heatmap(df_cm, annot=True) #plota a figura\n"
   ]
  }
 ],
 "metadata": {
  "colab": {
   "name": "cuidadoComsaude.ipynb",
   "provenance": []
  },
  "kernelspec": {
   "display_name": "Python 3",
   "language": "python",
   "name": "python3"
  },
  "language_info": {
   "codemirror_mode": {
    "name": "ipython",
    "version": 3
   },
   "file_extension": ".py",
   "mimetype": "text/x-python",
   "name": "python",
   "nbconvert_exporter": "python",
   "pygments_lexer": "ipython3",
   "version": "3.8.2"
  }
 },
 "nbformat": 4,
 "nbformat_minor": 4
}
